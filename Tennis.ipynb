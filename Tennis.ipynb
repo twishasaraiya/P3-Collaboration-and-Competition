{
 "cells": [
  {
   "cell_type": "markdown",
   "metadata": {},
   "source": [
    "# Collaboration and Competition\n",
    "\n",
    "---\n",
    "\n",
    "You are welcome to use this coding environment to train your agent for the project.  Follow the instructions below to get started!\n",
    "\n",
    "### 1. Start the Environment\n",
    "\n",
    "Run the next code cell to install a few packages.  This line will take a few minutes to run!"
   ]
  },
  {
   "cell_type": "code",
   "execution_count": 1,
   "metadata": {},
   "outputs": [
    {
     "name": "stdout",
     "output_type": "stream",
     "text": [
      "\u001b[31mtensorflow 1.7.1 has requirement numpy>=1.13.3, but you'll have numpy 1.12.1 which is incompatible.\u001b[0m\r\n",
      "\u001b[31mipython 6.5.0 has requirement prompt-toolkit<2.0.0,>=1.0.15, but you'll have prompt-toolkit 2.0.10 which is incompatible.\u001b[0m\r\n"
     ]
    }
   ],
   "source": [
    "!pip -q install ./python"
   ]
  },
  {
   "cell_type": "markdown",
   "metadata": {},
   "source": [
    "The environment is already saved in the Workspace and can be accessed at the file path provided below. "
   ]
  },
  {
   "cell_type": "code",
   "execution_count": 2,
   "metadata": {},
   "outputs": [
    {
     "name": "stderr",
     "output_type": "stream",
     "text": [
      "INFO:unityagents:\n",
      "'Academy' started successfully!\n",
      "Unity Academy name: Academy\n",
      "        Number of Brains: 1\n",
      "        Number of External Brains : 1\n",
      "        Lesson number : 0\n",
      "        Reset Parameters :\n",
      "\t\t\n",
      "Unity brain name: TennisBrain\n",
      "        Number of Visual Observations (per agent): 0\n",
      "        Vector Observation space type: continuous\n",
      "        Vector Observation space size (per agent): 8\n",
      "        Number of stacked Vector Observation: 3\n",
      "        Vector Action space type: continuous\n",
      "        Vector Action space size (per agent): 2\n",
      "        Vector Action descriptions: , \n"
     ]
    }
   ],
   "source": [
    "from unityagents import UnityEnvironment\n",
    "import numpy as np\n",
    "\n",
    "env = UnityEnvironment(file_name=\"/data/Tennis_Linux_NoVis/Tennis\")"
   ]
  },
  {
   "cell_type": "markdown",
   "metadata": {},
   "source": [
    "Environments contain **_brains_** which are responsible for deciding the actions of their associated agents. Here we check for the first brain available, and set it as the default brain we will be controlling from Python."
   ]
  },
  {
   "cell_type": "code",
   "execution_count": 3,
   "metadata": {},
   "outputs": [],
   "source": [
    "# get the default brain\n",
    "brain_name = env.brain_names[0]\n",
    "brain = env.brains[brain_name]"
   ]
  },
  {
   "cell_type": "markdown",
   "metadata": {},
   "source": [
    "### 2. Examine the State and Action Spaces\n",
    "\n",
    "Run the code cell below to print some information about the environment."
   ]
  },
  {
   "cell_type": "code",
   "execution_count": 4,
   "metadata": {},
   "outputs": [
    {
     "name": "stdout",
     "output_type": "stream",
     "text": [
      "Number of agents: 2\n",
      "Size of each action: 2\n",
      "There are 2 agents. Each observes a state with length: 24\n",
      "The state for the first agent looks like: [ 0.          0.          0.          0.          0.          0.          0.\n",
      "  0.          0.          0.          0.          0.          0.          0.\n",
      "  0.          0.         -6.65278625 -1.5        -0.          0.\n",
      "  6.83172083  6.         -0.          0.        ]\n"
     ]
    }
   ],
   "source": [
    "# reset the environment\n",
    "env_info = env.reset(train_mode=True)[brain_name]\n",
    "\n",
    "# number of agents \n",
    "num_agents = len(env_info.agents)\n",
    "print('Number of agents:', num_agents)\n",
    "\n",
    "# size of each action\n",
    "action_size = brain.vector_action_space_size\n",
    "print('Size of each action:', action_size)\n",
    "\n",
    "# examine the state space \n",
    "states = env_info.vector_observations\n",
    "state_size = states.shape[1]\n",
    "print('There are {} agents. Each observes a state with length: {}'.format(states.shape[0], state_size))\n",
    "print('The state for the first agent looks like:', states[0])"
   ]
  },
  {
   "cell_type": "markdown",
   "metadata": {},
   "source": [
    "### 3. Take Random Actions in the Environment\n",
    "\n",
    "In the next code cell, you will learn how to use the Python API to control the agent and receive feedback from the environment.\n",
    "\n",
    "Note that **in this coding environment, you will not be able to watch the agents while they are training**, and you should set `train_mode=True` to restart the environment."
   ]
  },
  {
   "cell_type": "code",
   "execution_count": 5,
   "metadata": {},
   "outputs": [
    {
     "name": "stdout",
     "output_type": "stream",
     "text": [
      "Total score (averaged over agents) this episode: -0.004999999888241291\n",
      "Total score (averaged over agents) this episode: -0.004999999888241291\n",
      "Total score (averaged over agents) this episode: -0.004999999888241291\n",
      "Total score (averaged over agents) this episode: -0.004999999888241291\n",
      "Total score (averaged over agents) this episode: -0.004999999888241291\n"
     ]
    }
   ],
   "source": [
    "for i in range(5):                                         # play game for 5 episodes\n",
    "    env_info = env.reset(train_mode=False)[brain_name]     # reset the environment    \n",
    "    states = env_info.vector_observations                  # get the current state (for each agent)\n",
    "    scores = np.zeros(num_agents)                          # initialize the score (for each agent)\n",
    "    while True:\n",
    "        actions = np.random.randn(num_agents, action_size) # select an action (for each agent)\n",
    "        actions = np.clip(actions, -1, 1)                  # all actions between -1 and 1\n",
    "        env_info = env.step(actions)[brain_name]           # send all actions to tne environment\n",
    "        next_states = env_info.vector_observations         # get next state (for each agent)\n",
    "        rewards = env_info.rewards                         # get reward (for each agent)\n",
    "        dones = env_info.local_done                        # see if episode finished\n",
    "        scores += env_info.rewards                         # update the score (for each agent)\n",
    "        states = next_states                               # roll over states to next time step\n",
    "        if np.any(dones):                                  # exit loop if episode finished\n",
    "            break\n",
    "    print('Total score (averaged over agents) this episode: {}'.format(np.mean(scores)))"
   ]
  },
  {
   "cell_type": "markdown",
   "metadata": {},
   "source": [
    "When finished, you can close the environment."
   ]
  },
  {
   "cell_type": "code",
   "execution_count": null,
   "metadata": {},
   "outputs": [],
   "source": [
    "# env.close()"
   ]
  },
  {
   "cell_type": "markdown",
   "metadata": {},
   "source": [
    "### 4. It's Your Turn!\n",
    "\n",
    "Now it's your turn to train your own agent to solve the environment!  A few **important notes**:\n",
    "- When training the environment, set `train_mode=True`, so that the line for resetting the environment looks like the following:\n",
    "```python\n",
    "env_info = env.reset(train_mode=True)[brain_name]\n",
    "```\n",
    "- To structure your work, you're welcome to work directly in this Jupyter notebook, or you might like to start over with a new file!  You can see the list of files in the workspace by clicking on **_Jupyter_** in the top left corner of the notebook.\n",
    "- In this coding environment, you will not be able to watch the agents while they are training.  However, **_after training the agents_**, you can download the saved model weights to watch the agents on your own machine! "
   ]
  },
  {
   "cell_type": "code",
   "execution_count": 8,
   "metadata": {},
   "outputs": [],
   "source": [
    "import torch\n",
    "\n",
    "from collections import deque\n",
    "from ddpg import Agent as DDPG_Agent\n",
    "import time"
   ]
  },
  {
   "cell_type": "code",
   "execution_count": 10,
   "metadata": {},
   "outputs": [
    {
     "name": "stdout",
     "output_type": "stream",
     "text": [
      "STATES = 24 \n",
      "ACTIONS = 2\n"
     ]
    }
   ],
   "source": [
    "print('STATES = {} \\nACTIONS = {}'.format(state_size,action_size))\n",
    "agent = DDPG_Agent(state_size,action_size, random_seed = 19)"
   ]
  },
  {
   "cell_type": "code",
   "execution_count": 11,
   "metadata": {},
   "outputs": [],
   "source": [
    "def ddpg(n_episodes=1000, max_t=1000, print_every=10, print_each_episode=False):\n",
    "    \"\"\"\n",
    "    Params:\n",
    "    ======\n",
    "    n_episodes(int): Maximum number of training episodes\n",
    "    max_t(int): maximum number of episodes per timestep\n",
    "    print_every(int): print average score after n episodes\n",
    "    \"\"\"\n",
    "    scores_deque = deque(maxlen=100)\n",
    "    scores = np.zeros(num_agents)\n",
    "    mean_scores = []\n",
    "      \n",
    "    for i_episode in range(1, n_episodes+1):\n",
    "        \n",
    "        start_time = time.time()\n",
    "        \n",
    "        if(print_each_episode):\n",
    "            print(\"Start Episode {}------------------------------------------------\".format(i_episode))\n",
    "        \n",
    "        # for each episode reset the environment\n",
    "        env_info = env.reset(train_mode=True)[brain_name]\n",
    "        \n",
    "        # get new states for all agents \n",
    "        states = env_info.vector_observations\n",
    "        \n",
    "        agent.reset()\n",
    "        \n",
    "        # reinitialize scores \n",
    "        scores = np.zeros(num_agents)\n",
    "        \n",
    "        for t in range(max_t):\n",
    "            # generate new action for each agent\n",
    "            actions = agent.act(states)\n",
    "                \n",
    "            env_info = env.step(actions)[brain_name]        # send the actions to the environment\n",
    "            \n",
    "            next_states = env_info.vector_observations      # get the next states\n",
    "            \n",
    "            rewards = env_info.rewards                   # get the rewards\n",
    "            \n",
    "            dones = env_info.local_done                  # check if episode (for any agent) is finished   \n",
    "            \n",
    "            for state, action, reward, next_state, done in zip(states, actions, rewards, next_states, dones):\n",
    "                agent.step(state, action, reward, next_state, done,t)\n",
    "                \n",
    "            states = next_states\n",
    "            scores += rewards\n",
    "            if np.any(dones):\n",
    "                break \n",
    "         \n",
    "        duration = time.time() - start_time;\n",
    "        \n",
    "        # max score of both the agents\n",
    "        score = np.max(scores)\n",
    "        \n",
    "        mean_scores.append(score)\n",
    "        scores_deque.append(score)\n",
    "        \n",
    "        if(print_each_episode):\n",
    "            print('\\rEpisode {} [{}s]\\tMax Score: {:.2f}\\tAverage Score: {:.2f}'.format(i_episode,round(duration),np.max(scores_deque), np.mean(scores_deque)))\n",
    "        \n",
    "        if i_episode % print_every == 0:\n",
    "            print('Episode {} [{}s]\\tMax Score: {:.2f} \\tAverage Score: {:.2f}'.format(i_episode,round(duration),np.max(scores_deque),np.mean(scores_deque)))\n",
    "\n",
    "        if(np.mean(scores_deque)> 0.5):\n",
    "            print('Environment solved in {}\\tScore: {:.2f}\\nSAVING CHECKPOINTS...'.format(i_episode-100,np.mean(scores_deque)))\n",
    "            torch.save(agent.actor_local.state_dict(), 'checkpoint_actor_20_agents.pth')\n",
    "            torch.save(agent.critic_local.state_dict(), 'checkpoint_critic_20_agents.pth')\n",
    "            break; # environment solved\n",
    "    return scores"
   ]
  },
  {
   "cell_type": "code",
   "execution_count": 12,
   "metadata": {
    "scrolled": true
   },
   "outputs": [
    {
     "name": "stdout",
     "output_type": "stream",
     "text": [
      "Episode 10 [1s]\tMax Score: 0.00 \tAverage Score: 0.00\n",
      "Episode 20 [1s]\tMax Score: 0.00 \tAverage Score: 0.00\n",
      "Episode 30 [1s]\tMax Score: 0.09 \tAverage Score: 0.01\n",
      "Episode 40 [1s]\tMax Score: 0.10 \tAverage Score: 0.01\n",
      "Episode 50 [1s]\tMax Score: 0.19 \tAverage Score: 0.01\n",
      "Episode 60 [1s]\tMax Score: 0.19 \tAverage Score: 0.02\n",
      "Episode 70 [1s]\tMax Score: 0.19 \tAverage Score: 0.02\n",
      "Episode 80 [1s]\tMax Score: 0.19 \tAverage Score: 0.03\n",
      "Episode 90 [1s]\tMax Score: 0.19 \tAverage Score: 0.03\n",
      "Episode 100 [1s]\tMax Score: 0.19 \tAverage Score: 0.03\n",
      "Episode 110 [1s]\tMax Score: 0.19 \tAverage Score: 0.04\n",
      "Episode 120 [2s]\tMax Score: 0.19 \tAverage Score: 0.04\n",
      "Episode 130 [1s]\tMax Score: 0.19 \tAverage Score: 0.04\n",
      "Episode 140 [1s]\tMax Score: 0.19 \tAverage Score: 0.04\n",
      "Episode 150 [1s]\tMax Score: 0.20 \tAverage Score: 0.04\n",
      "Episode 160 [1s]\tMax Score: 0.20 \tAverage Score: 0.04\n",
      "Episode 170 [1s]\tMax Score: 0.40 \tAverage Score: 0.04\n",
      "Episode 180 [2s]\tMax Score: 0.60 \tAverage Score: 0.05\n",
      "Episode 190 [1s]\tMax Score: 0.60 \tAverage Score: 0.06\n",
      "Episode 200 [5s]\tMax Score: 0.60 \tAverage Score: 0.08\n",
      "Episode 210 [25s]\tMax Score: 1.50 \tAverage Score: 0.10\n",
      "Episode 220 [6s]\tMax Score: 1.50 \tAverage Score: 0.12\n",
      "Episode 230 [1s]\tMax Score: 1.50 \tAverage Score: 0.12\n",
      "Episode 240 [1s]\tMax Score: 1.50 \tAverage Score: 0.12\n",
      "Episode 250 [1s]\tMax Score: 1.50 \tAverage Score: 0.13\n",
      "Episode 260 [1s]\tMax Score: 1.50 \tAverage Score: 0.14\n",
      "Episode 270 [1s]\tMax Score: 1.50 \tAverage Score: 0.14\n",
      "Episode 280 [1s]\tMax Score: 1.50 \tAverage Score: 0.13\n",
      "Episode 290 [1s]\tMax Score: 1.50 \tAverage Score: 0.13\n",
      "Episode 300 [1s]\tMax Score: 1.50 \tAverage Score: 0.12\n",
      "Episode 310 [1s]\tMax Score: 0.50 \tAverage Score: 0.10\n",
      "Episode 320 [1s]\tMax Score: 0.20 \tAverage Score: 0.09\n",
      "Episode 330 [1s]\tMax Score: 0.20 \tAverage Score: 0.09\n",
      "Episode 340 [3s]\tMax Score: 0.50 \tAverage Score: 0.10\n",
      "Episode 350 [11s]\tMax Score: 2.70 \tAverage Score: 0.23\n",
      "Episode 360 [6s]\tMax Score: 2.70 \tAverage Score: 0.27\n",
      "Episode 370 [18s]\tMax Score: 2.70 \tAverage Score: 0.36\n",
      "Episode 380 [5s]\tMax Score: 2.70 \tAverage Score: 0.43\n",
      "Environment solved in 286\tScore: 0.50\n",
      "SAVING CHECKPOINTS...\n"
     ]
    }
   ],
   "source": [
    "scores = ddpg()"
   ]
  },
  {
   "cell_type": "code",
   "execution_count": null,
   "metadata": {},
   "outputs": [],
   "source": []
  }
 ],
 "metadata": {
  "kernelspec": {
   "display_name": "Python 3",
   "language": "python",
   "name": "python3"
  },
  "language_info": {
   "codemirror_mode": {
    "name": "ipython",
    "version": 3
   },
   "file_extension": ".py",
   "mimetype": "text/x-python",
   "name": "python",
   "nbconvert_exporter": "python",
   "pygments_lexer": "ipython3",
   "version": "3.6.3"
  }
 },
 "nbformat": 4,
 "nbformat_minor": 2
}
